{
 "cells": [
  {
   "cell_type": "code",
   "execution_count": 1,
   "metadata": {},
   "outputs": [],
   "source": [
    "%load_ext autoreload\n",
    "%autoreload 2"
   ]
  },
  {
   "cell_type": "code",
   "execution_count": 2,
   "metadata": {},
   "outputs": [],
   "source": [
    "import os\n",
    "import string\n",
    "import numpy as np\n",
    "from pathlib import Path\n",
    "import matplotlib.pyplot as plt\n",
    "\n",
    "from typing import * \n",
    "\n",
    "\n",
    "import torch\n",
    "import torch.nn as nn\n",
    "import torch.optim as optim\n",
    "from torch.utils.data import Dataset, ConcatDataset, Subset, DataLoader\n",
    "\n",
    "import torchvision.transforms as VT\n",
    "\n",
    "\n",
    "from iqra.data import dataset\n",
    "from iqra.models import crnn\n",
    "\n",
    "import iqra.transforms as NT\n",
    "from iqra.data.dataset import LMDBDataset, BalanceDatasetConcatenator\n",
    "from iqra.utils import AttnLabelConverter"
   ]
  },
  {
   "cell_type": "code",
   "execution_count": 3,
   "metadata": {},
   "outputs": [],
   "source": [
    "import pytorch_lightning as pl\n",
    "from pytorch_lightning import loggers as pl_loggers\n",
    "from pytorch_lightning.metrics import Accuracy\n",
    "\n",
    "class OCRTaks(pl.LightningModule):\n",
    "    def __init__(self, model, optimizer, criterion, converter, grad_clip=5.0):\n",
    "        super().__init__()\n",
    "        self.model = model\n",
    "        self.model = self.model.to(self.device)\n",
    "        \n",
    "        self.optimizer = optimizer\n",
    "        self.criterion = criterion\n",
    "        self.converter = converter\n",
    "        self.grad_clip = grad_clip\n",
    "    \n",
    "    def forward(self, imgs, text):\n",
    "        output = self.model(imgs, texts)\n",
    "        return output\n",
    "    \n",
    "\n",
    "    def backward(self, trainer, loss, optimizer, optimizer_idx):\n",
    "        loss.backward()\n",
    "        nn.utils.clip_grad_norm_(self.model.parameters(), self.grad_clip)\n",
    "   \n",
    "    def shared_step(self, batch, batch_idx):\n",
    "        images, texts = batch\n",
    "        images = images.to(self.device)\n",
    "        \n",
    "        texts_encoded, texts_length = self.converter.encode(texts)\n",
    "        texts_encoded = texts_encoded.to(self.device)\n",
    "        texts_length = texts_encoded.to(self.device)\n",
    "        \n",
    "        preds = self.model(images, texts_encoded[:, :-1])\n",
    "        targets = texts_encoded[:, 1:]\n",
    "        \n",
    "        loss = self.criterion(preds.view(-1, preds.shape[-1]), targets.contiguous().view(-1))\n",
    "        \n",
    "        return loss\n",
    "        \n",
    "        \n",
    "    def training_step(self, batch, batch_idx):\n",
    "        loss = self.shared_step(batch, batch_idx)\n",
    "#         result = pl.TrainResult(loss)\n",
    "#         result.log_dict({'trn_loss': loss})\n",
    "        self.log('trn_loss', loss, on_step=True, on_epoch=True, prog_bar=True, logger=True)\n",
    "        \n",
    "        return result\n",
    "    \n",
    "    def validation_step(self, batch, batch_idx):\n",
    "        loss = self.shared_step(batch, batch_idx)\n",
    "#         result = pl.EvalResult(checkpoint_on=loss)\n",
    "#         result.log_dict({'val_loss': loss})\n",
    "        self.log('val_loss', loss, on_step=True, on_epoch=True, prog_bar=True, logger=True)\n",
    "        \n",
    "        return result\n",
    "    \n",
    "    def configure_optimizers(self):\n",
    "        return self.optimizer\n",
    "    "
   ]
  },
  {
   "cell_type": "code",
   "execution_count": 4,
   "metadata": {},
   "outputs": [],
   "source": [
    "device = torch.device('cuda' if torch.cuda.is_available() else 'cpu')\n"
   ]
  },
  {
   "cell_type": "code",
   "execution_count": 5,
   "metadata": {},
   "outputs": [],
   "source": [
    "BATCH_SIZE = 2\n",
    "NUM_WORKERS = 4\n",
    "BATCH_MAX_LENGTH = 25\n",
    "CHARACTER = string.printable[:-6]\n",
    "IMG_SIZE = (32,100)\n",
    "BETA1 = 0.9\n",
    "BETA2 = 0.999\n",
    "LRATE = 1.0\n",
    "\n",
    "GRAD_CLIP = 5.0"
   ]
  },
  {
   "cell_type": "code",
   "execution_count": 6,
   "metadata": {},
   "outputs": [],
   "source": [
    "trn_transform = VT.Compose([\n",
    "    NT.ResizeRatioWithRightPad(size=IMG_SIZE),\n",
    "    VT.ToTensor(),\n",
    "    VT.Normalize(mean=(0.5), std=(0.5))  \n",
    "])\n",
    "\n",
    "val_transform = VT.Compose([\n",
    "    NT.ResizeRatioWithRightPad(size=IMG_SIZE),\n",
    "    VT.ToTensor(),\n",
    "    VT.Normalize(mean=(0.5), std=(0.5))  \n",
    "])\n",
    "\n",
    "\n",
    "trn_path = '/data/clova_deeptext/training'\n",
    "val_path = '/data/clova_deeptext/validation'\n",
    "\n",
    "\n",
    "\n",
    "train_bdc = BalanceDatasetConcatenator(trn_path, dataset_class=LMDBDataset, \n",
    "                                       transform=trn_transform,\n",
    "                                       subdir=('ST', 'MJ'), usage_ratio=(0.5, 0.5),\n",
    "                                       im_size=IMG_SIZE, is_sensitive=True)\n",
    "trainset = train_bdc.get_dataset()\n",
    "\n",
    "\n",
    "valid_bdc = BalanceDatasetConcatenator(val_path, dataset_class=LMDBDataset, \n",
    "                                       transform=val_transform,\n",
    "                                       im_size=IMG_SIZE, is_sensitive=True)\n",
    "validset = valid_bdc.get_dataset()"
   ]
  },
  {
   "cell_type": "code",
   "execution_count": 7,
   "metadata": {},
   "outputs": [
    {
     "data": {
      "text/plain": [
       "(7221024, 6992)"
      ]
     },
     "execution_count": 7,
     "metadata": {},
     "output_type": "execute_result"
    }
   ],
   "source": [
    "len(trainset), len(validset)"
   ]
  },
  {
   "cell_type": "code",
   "execution_count": 8,
   "metadata": {},
   "outputs": [],
   "source": [
    "from iqra.utils import AttnLabelConverter\n",
    "converter = AttnLabelConverter(CHARACTER)\n",
    "num_class = len(converter.character)"
   ]
  },
  {
   "cell_type": "code",
   "execution_count": 9,
   "metadata": {},
   "outputs": [],
   "source": [
    "train_loader = DataLoader(trainset, batch_size=BATCH_SIZE, shuffle=True, num_workers=NUM_WORKERS)\n",
    "valid_loader = DataLoader(validset, batch_size=BATCH_SIZE, shuffle=True, num_workers=NUM_WORKERS)"
   ]
  },
  {
   "cell_type": "code",
   "execution_count": 10,
   "metadata": {},
   "outputs": [],
   "source": [
    "imgs, texts =  next(iter(train_loader))"
   ]
  },
  {
   "cell_type": "code",
   "execution_count": null,
   "metadata": {},
   "outputs": [],
   "source": []
  },
  {
   "cell_type": "code",
   "execution_count": 11,
   "metadata": {},
   "outputs": [],
   "source": [
    "converter = AttnLabelConverter(CHARACTER)\n",
    "NUM_CLASS = len(converter.character)"
   ]
  },
  {
   "cell_type": "code",
   "execution_count": 12,
   "metadata": {},
   "outputs": [],
   "source": [
    "model = crnn.OCRNet(num_class=NUM_CLASS, im_size=IMG_SIZE)\n",
    "criterion = nn.CrossEntropyLoss(ignore_index=0)\n",
    "optimizer = optim.Adam(model.parameters(), lr=LRATE, betas=(BETA1, BETA2))"
   ]
  },
  {
   "cell_type": "code",
   "execution_count": null,
   "metadata": {},
   "outputs": [],
   "source": []
  },
  {
   "cell_type": "code",
   "execution_count": 13,
   "metadata": {},
   "outputs": [],
   "source": [
    "checkpoint_path = 'checkpoints/'\n",
    "# DEFAULTS used by the Trainer\n",
    "checkpoint_callback = pl.callbacks.ModelCheckpoint(\n",
    "    filepath=checkpoint_path,\n",
    "    save_top_k=1,\n",
    "    verbose=True,\n",
    "    monitor='val_loss',\n",
    "    mode='min',\n",
    "    prefix='ocr_net_'\n",
    ")"
   ]
  },
  {
   "cell_type": "code",
   "execution_count": 14,
   "metadata": {},
   "outputs": [
    {
     "name": "stderr",
     "output_type": "stream",
     "text": [
      "/opt/anaconda3/envs/dlearn/lib/python3.6/site-packages/pytorch_lightning/utilities/distributed.py:37: UserWarning: You requested multiple GPUs but did not specify a backend, e.g. Trainer(distributed_backend=dp) (or ddp, ddp2). Setting distributed_backend=ddp_spawn for you.\n",
      "  warnings.warn(*args, **kwargs)\n",
      "GPU available: True, used: True\n",
      "TPU available: False, using: 0 TPU cores\n",
      "CUDA_VISIBLE_DEVICES: [0,1]\n"
     ]
    },
    {
     "ename": "RuntimeError",
     "evalue": "unable to open shared memory object </torch_20972_1499931426> in read-write mode",
     "output_type": "error",
     "traceback": [
      "\u001b[0;31m---------------------------------------------------------------------------\u001b[0m",
      "\u001b[0;31mRuntimeError\u001b[0m                              Traceback (most recent call last)",
      "\u001b[0;32m<ipython-input-14-60ea577ac5e6>\u001b[0m in \u001b[0;36m<module>\u001b[0;34m\u001b[0m\n\u001b[1;32m      2\u001b[0m \u001b[0mtask\u001b[0m \u001b[0;34m=\u001b[0m \u001b[0mOCRTaks\u001b[0m\u001b[0;34m(\u001b[0m\u001b[0mmodel\u001b[0m\u001b[0;34m,\u001b[0m \u001b[0moptimizer\u001b[0m\u001b[0;34m,\u001b[0m \u001b[0mcriterion\u001b[0m\u001b[0;34m,\u001b[0m \u001b[0mconverter\u001b[0m\u001b[0;34m)\u001b[0m\u001b[0;34m\u001b[0m\u001b[0;34m\u001b[0m\u001b[0m\n\u001b[1;32m      3\u001b[0m \u001b[0mtrainer\u001b[0m \u001b[0;34m=\u001b[0m \u001b[0mpl\u001b[0m\u001b[0;34m.\u001b[0m\u001b[0mTrainer\u001b[0m\u001b[0;34m(\u001b[0m\u001b[0mgpus\u001b[0m\u001b[0;34m=\u001b[0m\u001b[0;36m2\u001b[0m\u001b[0;34m,\u001b[0m \u001b[0mlogger\u001b[0m\u001b[0;34m=\u001b[0m\u001b[0mtb_logger\u001b[0m\u001b[0;34m,\u001b[0m \u001b[0mcheckpoint_callback\u001b[0m\u001b[0;34m=\u001b[0m\u001b[0mcheckpoint_callback\u001b[0m\u001b[0;34m)\u001b[0m\u001b[0;34m\u001b[0m\u001b[0;34m\u001b[0m\u001b[0m\n\u001b[0;32m----> 4\u001b[0;31m \u001b[0mtrainer\u001b[0m\u001b[0;34m.\u001b[0m\u001b[0mfit\u001b[0m\u001b[0;34m(\u001b[0m\u001b[0mtask\u001b[0m\u001b[0;34m,\u001b[0m \u001b[0mtrain_loader\u001b[0m\u001b[0;34m,\u001b[0m \u001b[0mvalid_loader\u001b[0m\u001b[0;34m)\u001b[0m\u001b[0;34m\u001b[0m\u001b[0;34m\u001b[0m\u001b[0m\n\u001b[0m",
      "\u001b[0;32m/opt/anaconda3/envs/dlearn/lib/python3.6/site-packages/pytorch_lightning/trainer/states.py\u001b[0m in \u001b[0;36mwrapped_fn\u001b[0;34m(self, *args, **kwargs)\u001b[0m\n",
      "\u001b[0;32m/opt/anaconda3/envs/dlearn/lib/python3.6/site-packages/pytorch_lightning/trainer/trainer.py\u001b[0m in \u001b[0;36mfit\u001b[0;34m(self, model, train_dataloader, val_dataloaders, datamodule)\u001b[0m\n",
      "\u001b[0;32m/opt/anaconda3/envs/dlearn/lib/python3.6/site-packages/pytorch_lightning/accelerators/ddp_spawn_backend.py\u001b[0m in \u001b[0;36mtrain\u001b[0;34m(self, model, nprocs)\u001b[0m\n",
      "\u001b[0;32m/opt/anaconda3/envs/dlearn/lib/python3.6/site-packages/torch/multiprocessing/spawn.py\u001b[0m in \u001b[0;36mspawn\u001b[0;34m(fn, args, nprocs, join, daemon, start_method)\u001b[0m\n",
      "\u001b[0;32m/opt/anaconda3/envs/dlearn/lib/python3.6/site-packages/torch/multiprocessing/spawn.py\u001b[0m in \u001b[0;36mstart_processes\u001b[0;34m(fn, args, nprocs, join, daemon, start_method)\u001b[0m\n",
      "\u001b[0;32m/opt/anaconda3/envs/dlearn/lib/python3.6/multiprocessing/process.py\u001b[0m in \u001b[0;36mstart\u001b[0;34m(self)\u001b[0m\n",
      "\u001b[0;32m/opt/anaconda3/envs/dlearn/lib/python3.6/multiprocessing/context.py\u001b[0m in \u001b[0;36m_Popen\u001b[0;34m(process_obj)\u001b[0m\n",
      "\u001b[0;32m/opt/anaconda3/envs/dlearn/lib/python3.6/multiprocessing/popen_spawn_posix.py\u001b[0m in \u001b[0;36m__init__\u001b[0;34m(self, process_obj)\u001b[0m\n",
      "\u001b[0;32m/opt/anaconda3/envs/dlearn/lib/python3.6/multiprocessing/popen_fork.py\u001b[0m in \u001b[0;36m__init__\u001b[0;34m(self, process_obj)\u001b[0m\n",
      "\u001b[0;32m/opt/anaconda3/envs/dlearn/lib/python3.6/multiprocessing/popen_spawn_posix.py\u001b[0m in \u001b[0;36m_launch\u001b[0;34m(self, process_obj)\u001b[0m\n",
      "\u001b[0;32m/opt/anaconda3/envs/dlearn/lib/python3.6/multiprocessing/reduction.py\u001b[0m in \u001b[0;36mdump\u001b[0;34m(obj, file, protocol)\u001b[0m\n",
      "\u001b[0;32m/opt/anaconda3/envs/dlearn/lib/python3.6/site-packages/torch/multiprocessing/reductions.py\u001b[0m in \u001b[0;36mreduce_storage\u001b[0;34m(storage)\u001b[0m\n",
      "\u001b[0;31mRuntimeError\u001b[0m: unable to open shared memory object </torch_20972_1499931426> in read-write mode"
     ]
    }
   ],
   "source": [
    "tb_logger = pl_loggers.TensorBoardLogger('logs/ocr_net')\n",
    "task = OCRTaks(model, optimizer, criterion, converter)\n",
    "trainer = pl.Trainer(gpus=2, logger=tb_logger, checkpoint_callback=checkpoint_callback)\n",
    "trainer.fit(task, train_loader, valid_loader)"
   ]
  },
  {
   "cell_type": "code",
   "execution_count": 14,
   "metadata": {},
   "outputs": [],
   "source": [
    "# !nvidia-smi"
   ]
  },
  {
   "cell_type": "code",
   "execution_count": 15,
   "metadata": {},
   "outputs": [],
   "source": [
    "# !pip install pytorch-lightning==1.0"
   ]
  },
  {
   "cell_type": "code",
   "execution_count": null,
   "metadata": {},
   "outputs": [],
   "source": []
  }
 ],
 "metadata": {
  "kernelspec": {
   "display_name": "Python 3",
   "language": "python",
   "name": "python3"
  },
  "language_info": {
   "codemirror_mode": {
    "name": "ipython",
    "version": 3
   },
   "file_extension": ".py",
   "mimetype": "text/x-python",
   "name": "python",
   "nbconvert_exporter": "python",
   "pygments_lexer": "ipython3",
   "version": "3.6.8"
  }
 },
 "nbformat": 4,
 "nbformat_minor": 4
}

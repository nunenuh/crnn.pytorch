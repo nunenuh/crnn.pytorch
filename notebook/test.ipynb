{
 "cells": [
  {
   "cell_type": "code",
   "execution_count": 7,
   "metadata": {
    "tags": []
   },
   "outputs": [
    {
     "name": "stdout",
     "output_type": "stream",
     "text": [
      "The autoreload extension is already loaded. To reload it, use:\n",
      "  %reload_ext autoreload\n"
     ]
    }
   ],
   "source": [
    "%load_ext autoreload\n",
    "%autoreload 2"
   ]
  },
  {
   "cell_type": "code",
   "execution_count": 9,
   "metadata": {},
   "outputs": [],
   "source": [
    "import os\n",
    "import string\n",
    "import numpy as np\n",
    "from pathlib import Path\n",
    "import matplotlib.pyplot as plt\n",
    "\n",
    "from typing import * \n",
    "\n",
    "\n",
    "import torch\n",
    "from torch.utils.data import Dataset, ConcatDataset, Subset, DataLoader\n",
    "\n",
    "import torchvision.transforms as VT\n",
    "\n",
    "\n",
    "from ocrnune.data import dataset\n",
    "from ocrnune.models import crnn\n",
    "\n",
    "import ocrnune.transforms as NT\n",
    "from ocrnune.data.dataset import LMDBDataset, BalanceDatasetConcatenator\n"
   ]
  },
  {
   "cell_type": "code",
   "execution_count": 3,
   "metadata": {
    "tags": []
   },
   "outputs": [],
   "source": [
    "# enc = crnn.EncoderOCR()\n",
    "# test_data = torch.rand(3,1,224,224)\n",
    "# out = enc(test_data)\n",
    "# print(out.shape)\n"
   ]
  },
  {
   "cell_type": "code",
   "execution_count": 11,
   "metadata": {
    "tags": []
   },
   "outputs": [],
   "source": [
    "batch_size = 4\n",
    "batch_max_length = 25\n",
    "character = string.printable[:-6]\n",
    "img_size = (32,100)\n",
    "\n",
    "trn_transform = VT.Compose([\n",
    "    NT.ResizeRatioWithRightPad(size=img_size),\n",
    "    VT.ToTensor(),\n",
    "    VT.Normalize(mean=(0.5), std=(0.5))  \n",
    "])\n",
    "\n",
    "val_transform = VT.Compose([\n",
    "    NT.ResizeRatioWithRightPad(size=img_size),\n",
    "    VT.ToTensor(),\n",
    "    VT.Normalize(mean=(0.5), std=(0.5))  \n",
    "])\n",
    "\n",
    "\n",
    "trn_path = '/data/lmdb/data_lmdb_release/training'\n",
    "val_path = '/data/lmdb/data_lmdb_release/validation'\n",
    "\n",
    "\n",
    "\n",
    "train_bdc = BalanceDatasetConcatenator(trn_path, dataset_class=LMDBDataset, \n",
    "                                       transform=trn_transform,\n",
    "                                       subdir=('ST', 'MJ'), usage_ratio=(0.5, 0.5),\n",
    "                                       im_size=img_size, is_sensitive=False)\n",
    "trainset = train_bdc.get_dataset()\n",
    "\n",
    "\n",
    "valid_bdc = BalanceDatasetConcatenator(val_path, dataset_class=LMDBDataset, \n",
    "                                       transform=val_transform,\n",
    "                                       im_size=img_size, is_sensitive=False)\n",
    "validset = valid_bdc.get_dataset()\n"
   ]
  },
  {
   "cell_type": "code",
   "execution_count": 12,
   "metadata": {},
   "outputs": [
    {
     "data": {
      "text/plain": [
       "(7221024, 6992)"
      ]
     },
     "execution_count": 12,
     "metadata": {},
     "output_type": "execute_result"
    }
   ],
   "source": [
    "len(trainset), len(validset)"
   ]
  },
  {
   "cell_type": "code",
   "execution_count": 13,
   "metadata": {
    "tags": []
   },
   "outputs": [],
   "source": [
    "from ocrnune.utils import AttnLabelConverter\n",
    "converter = AttnLabelConverter(character)\n",
    "\n",
    "train_loader = DataLoader(trainset, batch_size=4)\n",
    "imgs, texts =  next(iter(train_loader))\n",
    "\n"
   ]
  },
  {
   "cell_type": "code",
   "execution_count": 14,
   "metadata": {
    "tags": []
   },
   "outputs": [
    {
     "name": "stdout",
     "output_type": "stream",
     "text": [
      "('with', 'nancy', 'bob', 'the')\n",
      "tensor([[ 0, 34, 20, 31, 19,  1,  0,  0,  0,  0,  0,  0,  0,  0,  0,  0,  0,  0,\n",
      "          0,  0,  0,  0,  0,  0,  0,  0,  0],\n",
      "        [ 0, 25, 12, 25, 14, 36,  1,  0,  0,  0,  0,  0,  0,  0,  0,  0,  0,  0,\n",
      "          0,  0,  0,  0,  0,  0,  0,  0,  0],\n",
      "        [ 0, 13, 26, 13,  1,  0,  0,  0,  0,  0,  0,  0,  0,  0,  0,  0,  0,  0,\n",
      "          0,  0,  0,  0,  0,  0,  0,  0,  0],\n",
      "        [ 0, 31, 19, 16,  1,  0,  0,  0,  0,  0,  0,  0,  0,  0,  0,  0,  0,  0,\n",
      "          0,  0,  0,  0,  0,  0,  0,  0,  0]])\n"
     ]
    }
   ],
   "source": [
    "texts_encode, length = converter.encode(texts)\n",
    "print(texts)\n",
    "print(texts_encode)"
   ]
  },
  {
   "cell_type": "code",
   "execution_count": 15,
   "metadata": {},
   "outputs": [
    {
     "data": {
      "text/plain": [
       "['[GO]with[s][GO][GO][GO][GO][GO][GO][GO][GO][GO][GO][GO][GO][GO][GO][GO][GO][GO][GO][GO][GO][GO]',\n",
       " '[GO]nancy[s][GO][GO][GO][GO][GO][GO][GO][GO][GO][GO][GO][GO][GO][GO][GO][GO][GO][GO][GO][GO]',\n",
       " '[GO]bob[s][GO][GO][GO][GO][GO][GO][GO][GO][GO][GO][GO][GO][GO][GO][GO][GO][GO][GO][GO][GO][GO][GO]',\n",
       " '[GO]the[s][GO][GO][GO][GO][GO][GO][GO][GO][GO][GO][GO][GO][GO][GO][GO][GO][GO][GO][GO][GO][GO][GO]']"
      ]
     },
     "execution_count": 15,
     "metadata": {},
     "output_type": "execute_result"
    }
   ],
   "source": [
    "converter.decode(texts_encode, length)"
   ]
  },
  {
   "cell_type": "code",
   "execution_count": 16,
   "metadata": {
    "tags": []
   },
   "outputs": [
    {
     "data": {
      "text/plain": [
       "96"
      ]
     },
     "execution_count": 16,
     "metadata": {},
     "output_type": "execute_result"
    }
   ],
   "source": [
    "num_class = len(converter.character)\n",
    "num_class"
   ]
  },
  {
   "cell_type": "code",
   "execution_count": 17,
   "metadata": {
    "tags": []
   },
   "outputs": [],
   "source": [
    "model = crnn.OCR(num_class=num_class, im_size=img_size)"
   ]
  },
  {
   "cell_type": "code",
   "execution_count": 18,
   "metadata": {
    "tags": []
   },
   "outputs": [],
   "source": [
    "out = model(imgs, texts_encode[:, :-1])"
   ]
  },
  {
   "cell_type": "code",
   "execution_count": 19,
   "metadata": {
    "tags": []
   },
   "outputs": [
    {
     "data": {
      "text/plain": [
       "torch.Size([26, 96])"
      ]
     },
     "execution_count": 19,
     "metadata": {},
     "output_type": "execute_result"
    }
   ],
   "source": [
    "out[0].shape"
   ]
  },
  {
   "cell_type": "code",
   "execution_count": 28,
   "metadata": {
    "tags": []
   },
   "outputs": [
    {
     "data": {
      "text/plain": [
       "['/////////////////////////',\n",
       " '/////////////////////////',\n",
       " '/////////////////////////',\n",
       " '/////////////////////////']"
      ]
     },
     "execution_count": 28,
     "metadata": {},
     "output_type": "execute_result"
    }
   ],
   "source": [
    "import torch.nn.functional as NNF\n",
    "\n",
    "batch_size = 4 \n",
    "batch_max_length = 25\n",
    "# pred_length = batch_size * batch_max_length\n",
    "pred_length = torch.IntTensor([batch_max_length] * batch_size)\n",
    "# preds_prob = NNF.softmax(out, dim=2)\n",
    "\n",
    "preds_prob = NNF.softmax(out, dim=2)\n",
    "_, preds_index = preds_prob.max(dim=2)\n",
    "# preds_max_prob[0]\n",
    "\n",
    "preds_str = converter.decode(preds_index[:, 1:], pred_length)\n",
    "# preds_index.shape\n",
    "preds_str"
   ]
  },
  {
   "cell_type": "code",
   "execution_count": null,
   "metadata": {},
   "outputs": [],
   "source": []
  }
 ],
 "metadata": {
  "kernelspec": {
   "display_name": "Python 3",
   "language": "python",
   "name": "python3"
  },
  "language_info": {
   "codemirror_mode": {
    "name": "ipython",
    "version": 3
   },
   "file_extension": ".py",
   "mimetype": "text/x-python",
   "name": "python",
   "nbconvert_exporter": "python",
   "pygments_lexer": "ipython3",
   "version": "3.6.8"
  }
 },
 "nbformat": 4,
 "nbformat_minor": 4
}

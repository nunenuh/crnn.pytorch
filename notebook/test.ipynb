{
 "metadata": {
  "language_info": {
   "codemirror_mode": {
    "name": "ipython",
    "version": 3
   },
   "file_extension": ".py",
   "mimetype": "text/x-python",
   "name": "python",
   "nbconvert_exporter": "python",
   "pygments_lexer": "ipython3",
   "version": "3.6.8-final"
  },
  "orig_nbformat": 2,
  "kernelspec": {
   "name": "python36864bitdlearnconda54b2ea4882264d059af3c47949da46dc",
   "display_name": "Python 3.6.8 64-bit ('dlearn': conda)"
  }
 },
 "nbformat": 4,
 "nbformat_minor": 2,
 "cells": [
  {
   "source": [
    "%load_ext autoreload\n",
    "%autoreload 2"
   ],
   "cell_type": "code",
   "metadata": {
    "tags": []
   },
   "execution_count": 1,
   "outputs": []
  },
  {
   "cell_type": "code",
   "execution_count": 2,
   "metadata": {},
   "outputs": [],
   "source": [
    "import os\n",
    "import string\n",
    "import numpy as np\n",
    "from pathlib import Path\n",
    "import matplotlib.pyplot as plt\n",
    "\n",
    "from typing import * \n",
    "\n",
    "\n",
    "import torch\n",
    "from torch.utils.data import Dataset, ConcatDataset, Subset, DataLoader\n",
    "\n",
    "import torchvision.transforms as VT\n",
    "\n",
    "\n",
    "from ocrnune.data import dataset\n",
    "from ocrnune.models import crnn\n",
    "\n",
    "import ocrnune.transforms as NT\n",
    "from ocrnune.data.dataset import LMDBDataset, BalanceDatasetConcatenator, AlignCollate\n"
   ]
  },
  {
   "cell_type": "code",
   "execution_count": 3,
   "metadata": {
    "tags": []
   },
   "outputs": [],
   "source": [
    "# enc = crnn.EncoderOCR()\n",
    "# test_data = torch.rand(3,1,224,224)\n",
    "# out = enc(test_data)\n",
    "# print(out.shape)\n"
   ]
  },
  {
   "cell_type": "code",
   "execution_count": 4,
   "metadata": {
    "tags": []
   },
   "outputs": [],
   "source": [
    "batch_size = 4\n",
    "batch_max_length = 25\n",
    "character = string.printable[:-6]\n",
    "img_size = (32,100)\n",
    "\n",
    "trn_transform = VT.Compose([\n",
    "    NT.ResizeRatioWithRightPad(size=img_size),\n",
    "    VT.ToTensor(),\n",
    "    VT.Normalize(mean=(0.5), std=(0.5))  \n",
    "])\n",
    "\n",
    "val_transform = VT.Compose([\n",
    "    NT.ResizeRatioWithRightPad(size=img_size),\n",
    "    VT.ToTensor(),\n",
    "    VT.Normalize(mean=(0.5), std=(0.5))  \n",
    "])\n",
    "\n",
    "\n",
    "trn_path = '/run/user/1000/gvfs/sftp:host=tigapilar.fn/data/lmdb/data_lmdb_release/training'\n",
    "val_path = '/run/user/1000/gvfs/sftp:host=tigapilar.fn/data/lmdb/data_lmdb_release/validation'\n",
    "\n",
    "\n",
    "\n",
    "train_bdc = BalanceDatasetConcatenator(trn_path, dataset_class=LMDBDataset, \n",
    "                                       transform=trn_transform,\n",
    "                                       subdir=('ST', 'MJ'), usage_ratio=(0.5, 0.5),\n",
    "                                       im_size=img_size, is_sensitive=False)\n",
    "trainset = train_bdc.get_dataset()\n",
    "\n",
    "\n",
    "valid_bdc = BalanceDatasetConcatenator(val_path, dataset_class=LMDBDataset, \n",
    "                                       transform=val_transform,\n",
    "                                       im_size=img_size, is_sensitive=False)\n",
    "validset = valid_bdc.get_dataset()\n"
   ]
  },
  {
   "cell_type": "code",
   "execution_count": 5,
   "metadata": {},
   "outputs": [
    {
     "output_type": "execute_result",
     "data": {
      "text/plain": "(7221024, 6992)"
     },
     "metadata": {},
     "execution_count": 5
    }
   ],
   "source": [
    "len(trainset), len(validset)"
   ]
  },
  {
   "cell_type": "code",
   "execution_count": 6,
   "metadata": {
    "tags": []
   },
   "outputs": [],
   "source": [
    "from ocrnune.utils import AttnLabelConverter\n",
    "converter = AttnLabelConverter(character)\n",
    "\n",
    "train_loader = DataLoader(trainset, batch_size=4)\n",
    "imgs, texts =  next(iter(train_loader))\n",
    "\n"
   ]
  },
  {
   "cell_type": "code",
   "execution_count": 7,
   "metadata": {
    "tags": []
   },
   "outputs": [
    {
     "output_type": "stream",
     "name": "stdout",
     "text": "('also', 'easy', 'the', 'world')\ntensor([[ 0, 12, 23, 30, 26,  1,  0,  0,  0,  0,  0,  0,  0,  0,  0,  0,  0,  0,\n          0,  0,  0,  0,  0,  0,  0,  0,  0],\n        [ 0, 16, 12, 30, 36,  1,  0,  0,  0,  0,  0,  0,  0,  0,  0,  0,  0,  0,\n          0,  0,  0,  0,  0,  0,  0,  0,  0],\n        [ 0, 31, 19, 16,  1,  0,  0,  0,  0,  0,  0,  0,  0,  0,  0,  0,  0,  0,\n          0,  0,  0,  0,  0,  0,  0,  0,  0],\n        [ 0, 34, 26, 29, 23, 15,  1,  0,  0,  0,  0,  0,  0,  0,  0,  0,  0,  0,\n          0,  0,  0,  0,  0,  0,  0,  0,  0]])\n"
    }
   ],
   "source": [
    "texts_encode, length = converter.encode(texts)\n",
    "print(texts)\n",
    "print(texts_encode)"
   ]
  },
  {
   "cell_type": "code",
   "execution_count": 8,
   "metadata": {},
   "outputs": [
    {
     "output_type": "execute_result",
     "data": {
      "text/plain": "['[GO]also[s][GO][GO][GO][GO][GO][GO][GO][GO][GO][GO][GO][GO][GO][GO][GO][GO][GO][GO][GO][GO][GO]',\n '[GO]easy[s][GO][GO][GO][GO][GO][GO][GO][GO][GO][GO][GO][GO][GO][GO][GO][GO][GO][GO][GO][GO][GO]',\n '[GO]the[s][GO][GO][GO][GO][GO][GO][GO][GO][GO][GO][GO][GO][GO][GO][GO][GO][GO][GO][GO][GO][GO][GO]',\n '[GO]world[s][GO][GO][GO][GO][GO][GO][GO][GO][GO][GO][GO][GO][GO][GO][GO][GO][GO][GO][GO][GO]']"
     },
     "metadata": {},
     "execution_count": 8
    }
   ],
   "source": [
    "converter.decode(texts_encode, length)"
   ]
  },
  {
   "cell_type": "code",
   "execution_count": 9,
   "metadata": {
    "tags": []
   },
   "outputs": [
    {
     "output_type": "execute_result",
     "data": {
      "text/plain": "96"
     },
     "metadata": {},
     "execution_count": 9
    }
   ],
   "source": [
    "num_class = len(converter.character)\n",
    "num_class"
   ]
  },
  {
   "cell_type": "code",
   "execution_count": 10,
   "metadata": {
    "tags": []
   },
   "outputs": [],
   "source": [
    "model = crnn.OCR(num_class=num_class, im_size=img_size)"
   ]
  },
  {
   "cell_type": "code",
   "execution_count": 12,
   "metadata": {
    "tags": []
   },
   "outputs": [],
   "source": [
    "out = model(imgs, texts_encode[:, :-1])"
   ]
  },
  {
   "cell_type": "code",
   "execution_count": 15,
   "metadata": {
    "tags": []
   },
   "outputs": [
    {
     "output_type": "execute_result",
     "data": {
      "text/plain": "torch.Size([26, 96])"
     },
     "metadata": {},
     "execution_count": 15
    }
   ],
   "source": [
    "out[0].shape"
   ]
  },
  {
   "cell_type": "code",
   "execution_count": 40,
   "metadata": {
    "tags": []
   },
   "outputs": [
    {
     "output_type": "execute_result",
     "data": {
      "text/plain": "['LL#x@<<<KKLLLLLLLLLLLLLLL',\n 'LLxL<<<<LLLLLLLLLLLLLLLLL',\n 'LLL@@<LLLLLLLLLLLLLLLLLLL',\n 'LLLxx@<<LLLLLLLLLLLLLLLLL']"
     },
     "metadata": {},
     "execution_count": 40
    }
   ],
   "source": [
    "import torch.nn.functional as NNF\n",
    "\n",
    "batch_size = 4 \n",
    "batch_max_length = 25\n",
    "# pred_length = batch_size * batch_max_length\n",
    "pred_length = torch.IntTensor([batch_max_length] * batch_size)\n",
    "# preds_prob = NNF.softmax(out, dim=2)\n",
    "\n",
    "preds_prob = NNF.softmax(out, dim=2)\n",
    "_, preds_index = preds_prob.max(dim=2)\n",
    "# preds_max_prob[0]\n",
    "\n",
    "preds_str = converter.decode(preds_index[:, 1:], pred_length)\n",
    "# preds_index.shape\n",
    "preds_str"
   ]
  },
  {
   "cell_type": "code",
   "execution_count": 1,
   "metadata": {},
   "outputs": [
    {
     "output_type": "error",
     "ename": "NameError",
     "evalue": "name 'valid_bdc' is not defined",
     "traceback": [
      "\u001b[0;31m---------------------------------------------------------------------------\u001b[0m",
      "\u001b[0;31mNameError\u001b[0m                                 Traceback (most recent call last)",
      "\u001b[0;32m<ipython-input-1-d30309951c7b>\u001b[0m in \u001b[0;36m<module>\u001b[0;34m\u001b[0m\n\u001b[0;32m----> 1\u001b[0;31m \u001b[0mvalid_bdc\u001b[0m\u001b[0;34m.\u001b[0m\u001b[0mbase_datamap\u001b[0m\u001b[0;34m\u001b[0m\u001b[0;34m\u001b[0m\u001b[0m\n\u001b[0m",
      "\u001b[0;31mNameError\u001b[0m: name 'valid_bdc' is not defined"
     ]
    }
   ],
   "source": [
    "valid_bdc.base_datamap"
   ]
  },
  {
   "cell_type": "code",
   "execution_count": 41,
   "metadata": {},
   "outputs": [
    {
     "output_type": "execute_result",
     "data": {
      "text/plain": "{'/': {'ratio': 1,\n  'dirpath': ['/run/user/1000/gvfs/sftp:host=tigapilar.fn/data/lmdb/data_lmdb_release/validation'],\n  'total_length': 6992}}"
     },
     "metadata": {},
     "execution_count": 41
    }
   ],
   "source": [
    "bdc.base_datamap\n",
    "# img, text = lmdb_dataset[0]\n",
    "# text"
   ]
  },
  {
   "cell_type": "code",
   "execution_count": 54,
   "metadata": {
    "tags": []
   },
   "outputs": [
    {
     "output_type": "stream",
     "name": "stdout",
     "text": "nbatch_size: 32 \nnumber_dataset: 8919241 \ndataset_split: [8919241, 0] \nindices: 8919241 \ndataset last length: 8919241\nnbatch_size: 10 \nnumber_dataset: 5522808 \ndataset_split: [5522808, 0] \nindices: 5522808 \ndataset last length: 5522808\n"
    }
   ],
   "source": [
    "\n",
    "subdir = ('MJ','ST')\n",
    "batch_ratio = (0.5, 0.3)\n",
    "batch_size = 64\n",
    "total_data_usage_ratio = 1.0\n",
    "\n",
    "\n",
    "dataloader_list = []\n",
    "dataloader_iter_list = []\n",
    "\n",
    "batch_size_list = []\n",
    "total_batch_size = 0\n",
    "\n",
    "num_worker = 1\n",
    "\n",
    "\n",
    "align_collate_fn = AlignCollate(im_size=(32,100), keep_ratio_with_pad=True)\n",
    "\n",
    "\n",
    "for sdir, bratio in zip(subdir, batch_ratio):\n",
    "    dconcat = DatasetConcatenator(path, subdir=(sdir), \n",
    "                                  dataset_class=LMDBDataset, \n",
    "                                  im_size=(32,100), is_sensitive=False)\n",
    "    dataset = dconcat.get_concat_dataset()\n",
    "    dataset_length = len(dataset)\n",
    "\n",
    "    number_dataset = int(dataset_length * float(total_data_usage_ratio))\n",
    "    dataset_split = [number_dataset, dataset_length - number_dataset]\n",
    "    \n",
    "    indices = range(dataset_length)\n",
    "\n",
    "    nbatch_size = max(round(batch_size * float(bratio)), 1)\n",
    "\n",
    "    dataset, _ = [Subset(dataset, indices[offset - length:offset])\n",
    "                           for offset, length in zip(_accumulate(dataset_split), dataset_split)]\n",
    "\n",
    "    batch_size_list.append(str(batch_size))\n",
    "    total_batch_size += nbatch_size\n",
    "            \n",
    "    dataloader = torch.utils.data.DataLoader(\n",
    "        dataset, batch_size=nbatch_size,\n",
    "        shuffle=True,\n",
    "        num_workers=num_worker,\n",
    "        collate_fn=align_collate_fn, pin_memory=True\n",
    "    )\n",
    "    dataloader_list.append(dataloader)\n",
    "    dataloader_iter_list.append(iter(dataloader))\n",
    "\n",
    "    batch_size_sum = '+'.join(batch_size_list)\n",
    "    batch_size = total_batch_size\n",
    "\n",
    "    # _dataset, _ = [\n",
    "    #     Subset(_dataset, indices[offset - length:offset]) for offset, length in zip(_accumulate(dataset_split), dataset_split)\n",
    "    # ]\n",
    "\n",
    "    print(f'nbatch_size: {nbatch_size} \\n'\n",
    "          f'number_dataset: {number_dataset} \\n'\n",
    "          f'dataset_split: {dataset_split} \\n'\n",
    "          f'indices: {len(indices)} \\n'\n",
    "          f'dataset last length: {len(dataset)}')\n",
    "\n",
    "\n",
    "\n",
    "\n",
    "\n",
    "    \n",
    "    # print(nbatch_size)"
   ]
  },
  {
   "cell_type": "code",
   "execution_count": 50,
   "metadata": {
    "tags": []
   },
   "outputs": [
    {
     "output_type": "execute_result",
     "data": {
      "text/plain": "[<torch.utils.data.dataloader.DataLoader at 0x7fc2ed8ac1d0>,\n <torch.utils.data.dataloader.DataLoader at 0x7fc2ed8a74e0>]"
     },
     "metadata": {},
     "execution_count": 50
    }
   ],
   "source": [
    "dataloader_list"
   ]
  },
  {
   "cell_type": "code",
   "execution_count": 37,
   "metadata": {},
   "outputs": [
    {
     "output_type": "execute_result",
     "data": {
      "text/plain": "<torch.utils.data.dataset.Subset at 0x7fc2ed926748>"
     },
     "metadata": {},
     "execution_count": 37
    }
   ],
   "source": [
    "dataset_subsets[0]"
   ]
  },
  {
   "cell_type": "code",
   "execution_count": 72,
   "metadata": {},
   "outputs": [
    {
     "output_type": "execute_result",
     "data": {
      "text/plain": "2"
     },
     "metadata": {},
     "execution_count": 72
    }
   ],
   "source": [
    "ratio = (1,0)\n",
    "len(ratio)"
   ]
  },
  {
   "cell_type": "code",
   "execution_count": null,
   "metadata": {},
   "outputs": [],
   "source": []
  }
 ]
}